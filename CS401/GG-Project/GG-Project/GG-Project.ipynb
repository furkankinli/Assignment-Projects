{
 "cells": [
  {
   "cell_type": "code",
   "execution_count": 1,
   "metadata": {
    "collapsed": false,
    "deletable": true,
    "editable": true
   },
   "outputs": [
    {
     "data": {
      "text/plain": [
       "'Already up-to-date.'"
      ]
     },
     "execution_count": 1,
     "metadata": {},
     "output_type": "execute_result"
    }
   ],
   "source": [
    "import git\n",
    "g = git.cmd.Git('/root/Projects/Assignment-Projects')\n",
    "g.pull()"
   ]
  },
  {
   "cell_type": "code",
   "execution_count": 1,
   "metadata": {
    "collapsed": true,
    "deletable": true,
    "editable": true
   },
   "outputs": [],
   "source": [
    "from Sparker.SparkLogProcesser.SparkLogFileHandler import setSparkContext\n",
    "from pyspark import SparkContext\n",
    "sc = SparkContext() \n",
    "setSparkContext(sc)"
   ]
  },
  {
   "cell_type": "code",
   "execution_count": 2,
   "metadata": {
    "collapsed": false,
    "deletable": true,
    "editable": true
   },
   "outputs": [
    {
     "name": "stdout",
     "output_type": "stream",
     "text": [
      "hdfs://osldevptst01.host.gittigidiyor.net:8020/user/root/Parsed/2016-12-26_parsed has been read by 2017-05-21 22:54:16.985968\n"
     ]
    }
   ],
   "source": [
    "from Sparker.Logic.LogicTests import *\n",
    "day2Logs = readParsedLogsFromHDFS(entireDayParsedLogsFolder2)"
   ]
  },
  {
   "cell_type": "code",
   "execution_count": 3,
   "metadata": {
    "collapsed": true,
    "deletable": true,
    "editable": true
   },
   "outputs": [],
   "source": [
    "from MainSrc.PythonVersionHandler import *\n",
    "from paths import *"
   ]
  },
  {
   "cell_type": "code",
   "execution_count": 4,
   "metadata": {
    "collapsed": true,
    "deletable": true,
    "editable": true
   },
   "outputs": [],
   "source": [
    "from Sparker.Logic.LogicTests import *\n",
    "from Sparker.Logic.Trainer import *\n",
    "#trainPairWiseData(data) "
   ]
  },
  {
   "cell_type": "code",
   "execution_count": 5,
   "metadata": {
    "collapsed": true,
    "deletable": true,
    "editable": true
   },
   "outputs": [],
   "source": [
    "def printSeparater(c = 3):\n",
    "    for n in range(c):\n",
    "        print_('#' * 88)"
   ]
  },
  {
   "cell_type": "code",
   "execution_count": 6,
   "metadata": {
    "collapsed": true,
    "deletable": true,
    "editable": true
   },
   "outputs": [],
   "source": [
    "from sklearn import svm\n",
    "\n",
    "def evaluateModelOnData(model, data, dataName = 'Data', modelName = 'Model'):\n",
    "    labelsAndPreds = data.map(lambda p: (p.label, model.predict(p.features)))\n",
    "    truePredictionCount = labelsAndPreds.filter(lambda vp: vp[0] == vp[1]).count()\n",
    "    instanceCount = data.count()\n",
    "    accuracy = 100 * truePredictionCount / float(instanceCount)\n",
    "    print_('\\n'+modelName, 'has been evaluated on', dataName, 'by', nowStr())\n",
    "    print_('The result accuracy is %' + '%.3f\\n' % (accuracy))\n",
    "    return labelsAndPreds\n",
    "\n",
    "def trainPairWiseData(data, dataName = 'Data', modelName = 'Model', evaluate = True):\n",
    "    print_('Training with SVMWithSGD...')\n",
    "    model = SVMWithSGD.train(data, iterations=100)\n",
    "    print_('\\n', modelName, 'has been trained on', dataName, 'by', nowStr())##\n",
    "    print_('The learned weights:\\n' + str(model.weights).replace(',', ', ') + '\\n')\n",
    "    if evaluate:\n",
    "        evaluateModelOnData(model, data, dataName, modelName)\n",
    "    return model\n",
    "\n",
    "def runTrainingExperiment(trainData, testData, modelName = 'Model', save = True, outputFolder = Day1_iPhone_6_DataFolder):\n",
    "    model = trainPairWiseData(trainData, 'trainData', modelName)\n",
    "    if save:\n",
    "        modelPath = joinPath(outputFolder, modelName)\n",
    "        try:\n",
    "            model.save(sc_(), modelPath)\n",
    "        except Py4JJavaError:\n",
    "            pass\n",
    "        print_(modelPath, 'has been saved successfully by', nowStr())\n",
    "    return evaluateModelOnData(model, testData, 'testData', modelName)"
   ]
  },
  {
   "cell_type": "code",
   "execution_count": 7,
   "metadata": {
    "collapsed": true,
    "deletable": true,
    "editable": true
   },
   "outputs": [],
   "source": [
    "def evaluateModelOnDataSK(model, data, dataName = 'Data', modelName = 'Model'):\n",
    "    labelsAndPreds = data.map(lambda p: (p.label, model.predict(p.features)))\n",
    "    truePredictionCount = labelsAndPreds.filter(lambda vp: vp[0] == vp[1]).count()\n",
    "    instanceCount = data.count()\n",
    "    accuracy = 100 * truePredictionCount / float(instanceCount)\n",
    "    print_('\\n'+modelName, 'has been evaluated on', dataName, 'by', nowStr())\n",
    "    print_('The result accuracy is %' + '%.3f\\n' % (accuracy))\n",
    "    return labelsAndPreds\n",
    "\n",
    "def trainPairWiseDataSK(data, dataName = 'Data', modelName = 'Model', evaluate = True):\n",
    "    model = svm.SVC()#kernel =  'poly', degree = 3) #[:size][:size]\n",
    "    size = 5000\n",
    "    X =  data.map(lambda p: p.features).collect()\n",
    "    Y =  data.map(lambda p: p.label).collect()\n",
    "    print_('Training with SVC...')\n",
    "    model.fit(X, Y)\n",
    "    print_('\\n', modelName, 'has been trained on', dataName, 'by', nowStr())##\n",
    "   # print_('The learned weights:\\n' + str(model.coef_).replace(',', ', ') + '\\n')\n",
    "    if evaluate:\n",
    "        evaluateModelOnDataSK(model, data, dataName, modelName)\n",
    "    return model\n",
    "\n",
    "def runTrainingExperimentSK(trainData, testData, modelName = 'Model', save = True, outputFolder = Day1_iPhone_6_DataFolder):\n",
    "    model = trainPairWiseDataSK(trainData, 'trainData', modelName)\n",
    "    if save:\n",
    "        modelPath = joinPath(outputFolder, modelName)\n",
    "        try:\n",
    "            model.save(sc_(), modelPath)\n",
    "        except Py4JJavaError:\n",
    "            pass\n",
    "        print_(modelPath, 'has been saved successfully by', nowStr())\n",
    "    return evaluateModelOnDataSK(model, testData, 'testData', modelName)"
   ]
  },
  {
   "cell_type": "code",
   "execution_count": 18,
   "metadata": {
    "collapsed": true,
    "deletable": true,
    "editable": true
   },
   "outputs": [],
   "source": [
    "from DeepLearningToRank.DeepDataHandler import readTrainDataFromPickle\n",
    "#from DeepLearningToRank.DeepTrainer import *\n",
    "\n",
    "def featureFilter(trainData):\n",
    "    return trainData.map(lambda x: LabeledPoint(x.label, list(x.features[1:4]) + list(x.features[5:6]) + list(x.features[7:-2])))\n",
    "\n",
    "def runExperiment(trainData, modelName = 'Model'):\n",
    "    printSeparater(1)\n",
    "    testData, trainData = trainData.randomSplit(weights=[0.3, 0.7])\n",
    "    #testData, trainData = trainData[:int(30*len(trainData)/100)], trainData[int(30*len(trainData)/100):]SKSK\n",
    "    runTrainingExperiment(trainData, testData, modelName = modelName, save = False)\n",
    "    print_('The experiment for', modelName, 'has finished by', nowStr())\n",
    "    \n",
    "def trainPairWiseDataTestKeyword2(keyword, location = 'HDFS'):\n",
    "    printSeparater(2)\n",
    "    keyword = keyword.replace(' ', '_')\n",
    "    inputName = 'all_day'\n",
    "    if location == 'HDFS':\n",
    "        outputFolder = joinPath(HDFSDataFolder, 'Day1_' + keyword + '_Data')\n",
    "        #outputFolder = joinPath(joinPath(textTrainDataFolder, 'HDFS'), 'Day1_' + keyword + '_Data')\n",
    "        trainDataFile = joinPath(outputFolder, inputName + '_' + keyword + '_TrainData_Updated')\n",
    "        trainData = readTrainDataFromHDFS(trainDataFile)\n",
    "    elif location == 'oneHot':\n",
    "        outputFolder = joinPath(joinPath(textTrainDataFolder, 'HDFS'), 'Day1_' + keyword + '_Data')\n",
    "        outputFolder = joinPath(joinPath(textTrainDataFolder, 'HDFS'), 'Day1_' + keyword + '_Data')\n",
    "        trainDataFile = joinPath(outputFolder, inputName + '_' + keyword + '_OneHot_TrainData.txt')\n",
    "        trainData = readTrainDataFromPickle(trainDataFile)\n",
    "        trainData = sc_().parallelize(trainData)\n",
    "        trainData = trainData.map(lambda x: LabeledPoint(x[0], x[1]))\n",
    "    else:\n",
    "        trainDataFile = joinPath(textTrainDataFolder, inputName + '_' + keyword + '_TrainData.txt')\n",
    "        trainData = readTrainDataFromPickle(trainDataFile)\n",
    "        trainData = sc_().parallelize(trainData)\n",
    "        trainData = trainData.map(lambda x: LabeledPoint(x[0], x[1]))\n",
    "    print_(trainData.first())\n",
    "    print_('Data from', location)\n",
    "    preprocessing = scaleTrainData# normalizeTrainData#\n",
    "    trainData = preprocessing(trainData)\n",
    "    runExperiment(trainData, modelName = 'ExtendedModel')\n",
    "    trainData = featureFilter(trainData)\n",
    "    runExperiment(trainData, modelName = 'FilteredModel')\n",
    "    printSeparater(2)"
   ]
  },
  {
   "cell_type": "code",
   "execution_count": 19,
   "metadata": {
    "collapsed": false,
    "deletable": true,
    "editable": true
   },
   "outputs": [
    {
     "name": "stdout",
     "output_type": "stream",
     "text": [
      "########################################################################################\n",
      "########################################################################################\n",
      "hdfs://osldevptst01.host.gittigidiyor.net:8020/user/root/data/Day1_tv_unitesi_Data/all_day_tv_unitesi_TrainData_Updated has been read successfully by 2017-05-21 23:04:33.174900\n",
      "(1.0,[1.0,0.0,6.0,-5204.0,1.0,1.0,0.0,0.0,0.0,1.0,-82.5,1.0])\n",
      "Data from HDFS\n",
      "3092 instances have been scaled by 2017-05-21 23:04:33.582363\n",
      "########################################################################################\n",
      "Training with SVMWithSGD...\n",
      "\n",
      " ExtendedModel has been trained on trainData by 2017-05-21 23:04:39.640349\n",
      "The learned weights:\n",
      "[-0.513755623374, 0.986178164193, 0.000779970943234, 0.253640344046, -0.0857450149173, -0.0761931493792, 0.0950914633394, 0.0525474647189, 0.332135161778, 0.133899960777, -0.556635951003, 0.402134689711]\n",
      "\n",
      "\n",
      "ExtendedModel has been evaluated on trainData by 2017-05-21 23:04:40.504959\n",
      "The result accuracy is %79.147\n",
      "\n",
      "\n",
      "ExtendedModel has been evaluated on testData by 2017-05-21 23:04:41.252565\n",
      "The result accuracy is %78.184\n",
      "\n",
      "The experiment for ExtendedModel has finished by 2017-05-21 23:04:41.259607\n",
      "########################################################################################\n",
      "Training with SVMWithSGD...\n",
      "\n",
      " FilteredModel has been trained on trainData by 2017-05-21 23:04:46.695424\n",
      "The learned weights:\n",
      "[1.15023603396, 0.0284131203478, 0.291537612687, -0.374113136533, 0.104110155425, 0.167531919699, 0.0614698704378]\n",
      "\n",
      "\n",
      "FilteredModel has been evaluated on trainData by 2017-05-21 23:04:47.463995\n",
      "The result accuracy is %73.340\n",
      "\n",
      "\n",
      "FilteredModel has been evaluated on testData by 2017-05-21 23:04:48.310519\n",
      "The result accuracy is %73.168\n",
      "\n",
      "The experiment for FilteredModel has finished by 2017-05-21 23:04:48.316212\n",
      "########################################################################################\n",
      "########################################################################################\n"
     ]
    }
   ],
   "source": [
    "#trainPairWiseDataTestKeyword2('iphone 6', 'oneHot')\n",
    "trainPairWiseDataTestKeyword2('tv_unitesi', 'HDFS')"
   ]
  },
  {
   "cell_type": "code",
   "execution_count": 13,
   "metadata": {
    "collapsed": true,
    "deletable": true,
    "editable": true
   },
   "outputs": [],
   "source": [
    "import pickle\n",
    "def savePairWisetrainData(keyword):\n",
    "    printSeparater(2)\n",
    "    keyword = keyword.replace(' ', '_')\n",
    "    inputName = 'all_day'\n",
    "    outputFolder = joinPath(HDFSDataFolder, 'Day1_' + keyword + '_Data')\n",
    "    dataTypes = ['_TrainData', '_labeledPairs', '_journey_products']\n",
    "    for typ in dataTypes:\n",
    "        fileName = inputName + '_' + keyword + typ\n",
    "        trainDataFile = joinPath(outputFolder, fileName)\n",
    "        trainData = sc_().textFile(trainDataFile)\n",
    "        f = joinPath('/root/Projects/TrainData6', fileName)\n",
    "        trainData = trainData.collect()\n",
    "        fp = open(f, \"wb\")   #Pickling\n",
    "        pickle.dump(trainData, fp)\n",
    "        print_(f, 'has been saved successfully by', nowStr())"
   ]
  },
  {
   "cell_type": "code",
   "execution_count": 21,
   "metadata": {
    "collapsed": false,
    "deletable": true,
    "editable": true
   },
   "outputs": [],
   "source": [
    "def trainPairWiseDataTest():\n",
    "    keywords = ['iphone 6', 'nike air max', 'tv unitesi', 'camasir makinesi', 'bosch', 'jant', 'kot ceket']\n",
    "    for keyword in keywords[:4]:\n",
    "        trainPairWiseDataTestKeyword2(keyword)\n",
    "        #savePairWisetrainData(keyword)readTrainDataFromHDFS"
   ]
  },
  {
   "cell_type": "code",
   "execution_count": 22,
   "metadata": {
    "collapsed": true,
    "deletable": true,
    "editable": true
   },
   "outputs": [],
   "source": [
    "def main():\n",
    "    printSeparater()\n",
    "    print_('%s:' % nowStr(), 'Running on osldevptst02:Jupyter...')\n",
    "\n",
    "    trainPairWiseDataTest()\n",
    "\n",
    "    print_('%s:' % nowStr(), 'DONE')\n",
    "    printSeparater()\n"
   ]
  },
  {
   "cell_type": "code",
   "execution_count": 23,
   "metadata": {
    "collapsed": false,
    "deletable": true,
    "editable": true,
    "scrolled": true
   },
   "outputs": [
    {
     "name": "stdout",
     "output_type": "stream",
     "text": [
      "########################################################################################\n",
      "########################################################################################\n",
      "########################################################################################\n",
      "2017-05-21 23:08:16.204199: Running on osldevptst02:Jupyter...\n",
      "########################################################################################\n",
      "########################################################################################\n",
      "hdfs://osldevptst01.host.gittigidiyor.net:8020/user/root/data/Day1_iphone_6_Data/all_day_iphone_6_TrainData_Updated has been read successfully by 2017-05-21 23:08:16.276956\n",
      "(0.0,[-7.0,-1.0,-67.0,-64.0,0.0,0.0,0.0,-1.0,0.0,0.0,493.9,0.0])\n",
      "Data from HDFS\n",
      "350 instances have been scaled by 2017-05-21 23:08:16.959146\n",
      "########################################################################################\n",
      "Training with SVMWithSGD...\n",
      "\n",
      " ExtendedModel has been trained on trainData by 2017-05-21 23:08:22.183088\n",
      "The learned weights:\n",
      "[0.805798638841, -0.236373598116, 0.091482084186, -0.572494708592, 0.192851164683, 0.735608461121, -0.0492645701057, 1.07790931856, -0.241797360713, 0.199081731688, -0.54290274746, -0.140595009525]\n",
      "\n",
      "\n",
      "ExtendedModel has been evaluated on trainData by 2017-05-21 23:08:22.713961\n",
      "The result accuracy is %91.770\n",
      "\n",
      "\n",
      "ExtendedModel has been evaluated on testData by 2017-05-21 23:08:23.375645\n",
      "The result accuracy is %90.654\n",
      "\n",
      "The experiment for ExtendedModel has finished by 2017-05-21 23:08:23.380615\n",
      "########################################################################################\n",
      "Training with SVMWithSGD...\n",
      "\n",
      " FilteredModel has been trained on trainData by 2017-05-21 23:08:27.944402\n",
      "The learned weights:\n",
      "[0.0171611194971, 0.2126372115, -1.27462468162, 0.621385431578, 1.04995444444, -0.257318947622, -0.00490842642813]\n",
      "\n",
      "\n",
      "FilteredModel has been evaluated on trainData by 2017-05-21 23:08:28.706866\n",
      "The result accuracy is %80.784\n",
      "\n",
      "\n",
      "FilteredModel has been evaluated on testData by 2017-05-21 23:08:29.289204\n",
      "The result accuracy is %71.579\n",
      "\n",
      "The experiment for FilteredModel has finished by 2017-05-21 23:08:29.294133\n",
      "########################################################################################\n",
      "########################################################################################\n",
      "########################################################################################\n",
      "########################################################################################\n",
      "hdfs://osldevptst01.host.gittigidiyor.net:8020/user/root/data/Day1_nike_air_max_Data/all_day_nike_air_max_TrainData_Updated has been read successfully by 2017-05-21 23:08:29.337682\n",
      "(1.0,[-4.0,0.0,-100.0,-164.0,1.0,0.0,0.0,0.0,0.0,1.0,-60.9,1.0])\n",
      "Data from HDFS\n",
      "1034 instances have been scaled by 2017-05-21 23:08:29.671323\n",
      "########################################################################################\n",
      "Training with SVMWithSGD...\n",
      "\n",
      " ExtendedModel has been trained on trainData by 2017-05-21 23:08:34.366300\n",
      "The learned weights:\n",
      "[0.611009765848, -0.0240244355384, 0.153182007064, 0.38609587825, -0.120009733316, 0.353837301567, 0.0, 0.408901014728, -0.169330120665, 1.28028876038, 0.298782554821, -0.0560080716207]\n",
      "\n",
      "\n",
      "ExtendedModel has been evaluated on trainData by 2017-05-21 23:08:35.044645\n",
      "The result accuracy is %79.348\n",
      "\n",
      "\n",
      "ExtendedModel has been evaluated on testData by 2017-05-21 23:08:35.607447\n",
      "The result accuracy is %79.866\n",
      "\n",
      "The experiment for ExtendedModel has finished by 2017-05-21 23:08:35.613120\n",
      "########################################################################################\n",
      "Training with SVMWithSGD...\n",
      "\n",
      " FilteredModel has been trained on trainData by 2017-05-21 23:08:40.297869\n",
      "The learned weights:\n",
      "[-0.136898420325, 0.480551156405, 0.344156922047, 0.42525541414, 0.469307451232, -0.256796758307, 1.2599771028]\n",
      "\n",
      "\n",
      "FilteredModel has been evaluated on trainData by 2017-05-21 23:08:41.072653\n",
      "The result accuracy is %74.471\n",
      "\n",
      "\n",
      "FilteredModel has been evaluated on testData by 2017-05-21 23:08:41.722818\n",
      "The result accuracy is %72.615\n",
      "\n",
      "The experiment for FilteredModel has finished by 2017-05-21 23:08:41.730053\n",
      "########################################################################################\n",
      "########################################################################################\n",
      "########################################################################################\n",
      "########################################################################################\n",
      "hdfs://osldevptst01.host.gittigidiyor.net:8020/user/root/data/Day1_tv_unitesi_Data/all_day_tv_unitesi_TrainData_Updated has been read successfully by 2017-05-21 23:08:41.770917\n",
      "(1.0,[1.0,0.0,6.0,-5204.0,1.0,1.0,0.0,0.0,0.0,1.0,-82.5,1.0])\n",
      "Data from HDFS\n",
      "3092 instances have been scaled by 2017-05-21 23:08:42.141175\n",
      "########################################################################################\n",
      "Training with SVMWithSGD...\n",
      "\n",
      " ExtendedModel has been trained on trainData by 2017-05-21 23:08:46.854354\n",
      "The learned weights:\n",
      "[-0.512200798163, 0.920148453486, 0.0108010429263, 0.235846846296, -0.0810206633446, -0.173079632624, 0.0935055173693, 0.0513915168241, 0.311968172602, 0.206439825968, -0.581141741805, 0.373040617357]\n",
      "\n",
      "\n",
      "ExtendedModel has been evaluated on trainData by 2017-05-21 23:08:47.561395\n",
      "The result accuracy is %78.231\n",
      "\n",
      "\n",
      "ExtendedModel has been evaluated on testData by 2017-05-21 23:08:48.306418\n",
      "The result accuracy is %79.451\n",
      "\n",
      "The experiment for ExtendedModel has finished by 2017-05-21 23:08:48.311993\n",
      "########################################################################################\n",
      "Training with SVMWithSGD...\n",
      "\n",
      " FilteredModel has been trained on trainData by 2017-05-21 23:08:52.828602\n",
      "The learned weights:\n",
      "[1.23312078427, 0.101929579069, 0.40641259238, -0.27451835192, 0.10799277571, 0.15904967507, 0.0157773575777]\n",
      "\n",
      "\n",
      "FilteredModel has been evaluated on trainData by 2017-05-21 23:08:53.498255\n",
      "The result accuracy is %73.751\n",
      "\n",
      "\n",
      "FilteredModel has been evaluated on testData by 2017-05-21 23:08:54.328574\n",
      "The result accuracy is %71.819\n",
      "\n",
      "The experiment for FilteredModel has finished by 2017-05-21 23:08:54.333957\n",
      "########################################################################################\n",
      "########################################################################################\n",
      "########################################################################################\n",
      "########################################################################################\n",
      "hdfs://osldevptst01.host.gittigidiyor.net:8020/user/root/data/Day1_camasir_makinesi_Data/all_day_camasir_makinesi_TrainData_Updated has been read successfully by 2017-05-21 23:08:54.366488\n",
      "(1.0,[0.0,0.0,-1.0,1374.0,0.0,0.0,0.0,0.0,0.0,0.0,-136.0,-2.0])\n",
      "Data from HDFS\n",
      "262 instances have been scaled by 2017-05-21 23:08:54.689116\n",
      "########################################################################################\n",
      "Training with SVMWithSGD...\n",
      "\n",
      " ExtendedModel has been trained on trainData by 2017-05-21 23:08:58.912649\n",
      "The learned weights:\n",
      "[0.23893216209, 1.00100538742, 0.13973267935, -0.361900737918, -0.0846775620926, -0.188869687233, 0.0, 0.10244996944, -0.297314217724, 0.359190792772, -0.737919265634, -0.0570165529782]\n",
      "\n",
      "\n",
      "ExtendedModel has been evaluated on trainData by 2017-05-21 23:08:59.416675\n",
      "The result accuracy is %77.540\n",
      "\n",
      "\n",
      "ExtendedModel has been evaluated on testData by 2017-05-21 23:08:59.917170\n",
      "The result accuracy is %78.667\n",
      "\n",
      "The experiment for ExtendedModel has finished by 2017-05-21 23:08:59.924578\n",
      "########################################################################################\n",
      "Training with SVMWithSGD...\n",
      "\n",
      " FilteredModel has been trained on trainData by 2017-05-21 23:09:04.234435\n",
      "The learned weights:\n",
      "[1.39251555724, 0.00538263192283, 0.044950677114, -0.417660230992, 0.174475909107, -0.466091547679, 0.328158185705]\n",
      "\n",
      "\n",
      "FilteredModel has been evaluated on trainData by 2017-05-21 23:09:04.930656\n",
      "The result accuracy is %82.447\n",
      "\n",
      "\n",
      "FilteredModel has been evaluated on testData by 2017-05-21 23:09:05.500324\n",
      "The result accuracy is %85.135\n",
      "\n",
      "The experiment for FilteredModel has finished by 2017-05-21 23:09:05.505576\n",
      "########################################################################################\n",
      "########################################################################################\n",
      "2017-05-21 23:09:05.513042: DONE\n",
      "########################################################################################\n",
      "########################################################################################\n",
      "########################################################################################\n"
     ]
    }
   ],
   "source": [
    "main()"
   ]
  },
  {
   "cell_type": "code",
   "execution_count": null,
   "metadata": {
    "collapsed": true,
    "deletable": true,
    "editable": true
   },
   "outputs": [],
   "source": []
  }
 ],
 "metadata": {
  "anaconda-cloud": {},
  "kernelspec": {
   "display_name": "Python 3",
   "language": "python",
   "name": "python3"
  },
  "language_info": {
   "codemirror_mode": {
    "name": "ipython",
    "version": 3
   },
   "file_extension": ".py",
   "mimetype": "text/x-python",
   "name": "python",
   "nbconvert_exporter": "python",
   "pygments_lexer": "ipython3",
   "version": "3.5.2"
  }
 },
 "nbformat": 4,
 "nbformat_minor": 2
}
