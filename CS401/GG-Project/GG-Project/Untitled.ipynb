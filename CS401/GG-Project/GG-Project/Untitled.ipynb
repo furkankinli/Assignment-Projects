{
 "cells": [
  {
   "cell_type": "code",
   "execution_count": 8,
   "metadata": {
    "collapsed": true
   },
   "outputs": [],
   "source": [
    "from DeepLearningToRank import tfFLAGS\n",
    "tfFLAGS.LEARNING_RATE_DECAY_FACTOR = 0.1;           tfFLAGS.NUM_CLASSES = 2;       tfFLAGS.run_once = True\n",
    "tfFLAGS.NUM_EXAMPLES_PER_EPOCH_FOR_TRAIN = 50000;   tfFLAGS.batch_size = 128;       tfFLAGS.use_fp16 = False\n",
    "tfFLAGS.NUM_EXAMPLES_PER_EPOCH_FOR_EVAL = 10000;    tfFLAGS.max_steps = 400;      tfFLAGS.log_frequency = 100\n",
    "tfFLAGS.MOVING_AVERAGE_DECAY = 0.9999;   tfFLAGS.NUM_EPOCHS_PER_DECAY = 350.0;      tfFLAGS.IMAGE_SIZE = 10;\n",
    "tfFLAGS.INITIAL_LEARNING_RATE = 0.1;     tfFLAGS.eval_interval_secs = 60 * 5;       tfFLAGS.num_examples = 1000"
   ]
  },
  {
   "cell_type": "code",
   "execution_count": 9,
   "metadata": {
    "collapsed": true
   },
   "outputs": [],
   "source": [
    "import tensorflow as tf\n",
    "from MainSrc.PythonVersionHandler import *"
   ]
  },
  {
   "cell_type": "code",
   "execution_count": 10,
   "metadata": {
    "collapsed": true
   },
   "outputs": [],
   "source": [
    "conv1Size = 3; conv1Shape = [conv1Size, conv1Size, 3, 64]\n",
    "conv2Size = 5; conv2Shape = [conv2Size, conv2Size, 64, 128]\n",
    "\n",
    "pool1S = 2; pool1ksize=[1, pool1S, pool1S, 1]; pool1St = 2; pool1strides=[1, pool1St, pool1St, 1]; pool1padding='SAME'\n",
    "pool2S = 2; pool2ksize=[1, pool2S, pool2S, 1]; pool2St = 2; pool2strides=[1, pool2St, pool2St, 1]; pool2padding='SAME'\n",
    "\n",
    "local3InputDepth = 384; local3OutputDepth = 384\n",
    "local4InputDepth = local3OutputDepth; local4OutputDepth = 192\n",
    "softmax_linearInput = local4OutputDepth"
   ]
  },
  {
   "cell_type": "code",
   "execution_count": 11,
   "metadata": {},
   "outputs": [
    {
     "name": "stdout",
     "output_type": "stream",
     "text": [
      "Network summary:\n",
      "conv1Shape: [3, 3, 3, 64]\n",
      "pool1ksize: [1, 2, 2, 1]  | pool1strides: [1, 2, 2, 1]  | pool1padding: SAME\n",
      "conv2Shape: [5, 5, 64, 128]\n",
      "pool2ksize: [1, 2, 2, 1]  | pool2strides: [1, 2, 2, 1]  | pool2padding: SAME\n",
      "local3InputDepth: 384  | local3OutputDepth: 384\n",
      "local4InputDepth: 384  | local4OutputDepth: 192\n",
      "softmax_linearInput: 192\n",
      "\n",
      "Number of hidden parameters of conv1: 1792\n",
      "Number of hidden parameters of conv2: 204928\n",
      "Number of hidden parameters of local3: 147840\n",
      "Number of hidden parameters of local4: 73920\n",
      "Number of hidden parameters of softmax: 386\n",
      "Total number of hidden parameters: 428866\n"
     ]
    }
   ],
   "source": [
    "print_('Network summary:')\n",
    "print_('conv1Shape:', conv1Shape)\n",
    "print_('pool1ksize:', pool1ksize, ' | pool1strides:', pool1strides, ' | pool1padding:', pool1padding)\n",
    "print_('conv2Shape:', conv2Shape)\n",
    "print_('pool2ksize:', pool2ksize, ' | pool2strides:', pool2strides, ' | pool2padding:', pool2padding)\n",
    "print_('local3InputDepth:', local3InputDepth, ' | local3OutputDepth:', local3OutputDepth)\n",
    "print_('local4InputDepth:', local4InputDepth, ' | local4OutputDepth:', local4OutputDepth)\n",
    "print_('softmax_linearInput:', softmax_linearInput)\n",
    "print_()\n",
    "numParamConv1 = (conv1Shape[0] * conv1Shape[1] * conv1Shape[2] + 1) * conv1Shape[-1]\n",
    "print_('Number of hidden parameters of conv1:', numParamConv1)\n",
    "#print_('Number of hidden parameters of norm1:', numParamConv1 / pool1S**1)\n",
    "numParamConv2 = (conv2Shape[0] * conv2Shape[1] * conv2Shape[2] + 1) * conv2Shape[-1]\n",
    "print_('Number of hidden parameters of conv2:', numParamConv2)\n",
    "numParamLocal3 = (local3InputDepth + 1) * local3OutputDepth\n",
    "print_('Number of hidden parameters of local3:', numParamLocal3)\n",
    "numParamLocal4 = (local4InputDepth + 1) * local4OutputDepth\n",
    "print_('Number of hidden parameters of local4:', numParamLocal4)\n",
    "numParamsoftmax = (softmax_linearInput + 1) * tfFLAGS.NUM_CLASSES\n",
    "print_('Number of hidden parameters of softmax:', numParamsoftmax)\n",
    "print_('Total number of hidden parameters:', numParamConv1 + numParamConv2 + numParamLocal3 + numParamLocal4 + numParamsoftmax)"
   ]
  },
  {
   "cell_type": "code",
   "execution_count": 12,
   "metadata": {
    "collapsed": true
   },
   "outputs": [],
   "source": [
    "from DeepLearningToRank.MyModel import * \n",
    "def inferenceOnJupyter(images):\n",
    "    # local3\n",
    "    with tf.variable_scope('local3') as scope:\n",
    "        # Move everything into depth so we can perform a single matrix multiply.\n",
    "        reshape = tf.reshape(images, [tfFLAGS.batch_size, -1])\n",
    "        local3InputDepth = reshape.get_shape()[1].value\n",
    "        fc1_weights = variable_with_weight_decay('weights', shape=[1, local3OutputDepth], stddev=0.04, wd=0.004)\n",
    "        fc1_biases = variable_on_cpu('biases', [local3OutputDepth], tf.constant_initializer(0.1))\n",
    "        local3 = tf.nn.relu(tf.matmul(reshape, fc1_weights) + fc1_biases, name=scope.name)        \n",
    "        activation_summary(local3)\n",
    "\n",
    "    # local4\n",
    "    with tf.variable_scope('local4') as scope:\n",
    "        fc2_weights = variable_with_weight_decay('weights', shape=[local3OutputDepth, local4OutputDepth], stddev=0.04, wd=0.004)\n",
    "        fc2_biases = variable_on_cpu('biases', [local4OutputDepth], tf.constant_initializer(0.1))\n",
    "        local4 = tf.nn.relu(tf.matmul(local3, fc2_weights) + fc2_biases, name=scope.name)\n",
    "        activation_summary(local4)\n",
    "        \n",
    "    with tf.variable_scope('softmax_linear') as scope:\n",
    "        weights = variable_with_weight_decay('weights', [softmax_linearInput, tfFLAGS.NUM_CLASSES], stddev=1/192.0, wd=0.0)\n",
    "        biases = variable_on_cpu('biases', [tfFLAGS.NUM_CLASSES], tf.constant_initializer(0.0))\n",
    "        softmax_linear = tf.add(tf.matmul(local4, weights), biases, name=scope.name)\n",
    "        activation_summary(softmax_linear)\n",
    "    return softmax_linear, fc1_weights, fc1_biases, fc2_weights, fc2_biases"
   ]
  },
  {
   "cell_type": "code",
   "execution_count": 13,
   "metadata": {
    "collapsed": true
   },
   "outputs": [],
   "source": [
    "from DeepLearningToRank import MyModel\n",
    "inferenceOnMyModel = MyModel.inference\n",
    "MyModel.inference = inferenceOnJupyter"
   ]
  },
  {
   "cell_type": "code",
   "execution_count": 1,
   "metadata": {},
   "outputs": [
    {
     "name": "stdout",
     "output_type": "stream",
     "text": [
      "########################################################################################\n",
      "########################################################################################\n",
      "########################################################################################\n",
      "2017-05-19 07:27:35.236465: Running on UCSC:citrisdense...\n",
      "/soe/cicekm/Projects/offlineData/all_day_jant_TrainData.txt has been read successfully by 2017-05-19 07:27:50.207769\n",
      "[(1.0, [0.0, 0.0, 8.0, 3714.0, 0.0, 0.0, 0.0, -1.0, 0.0, 0.0, -2350.1, 8.0]), (1.0, [0.0, 0.0, 1.0, -1640.0, -1.0, 0.0, 0.0, -1.0, 0.0, 0.0, -10.0, 0.0]), (1.0, [1.0, 17.0, 0.0, -4104.0, 0.0, 1.0, 0.0, 1.0, 1.0, 1.0, 159.0, 0.0])]\n",
      "\n",
      "The First Network on GG running...\n",
      "\n",
      "Epoch 10, = (0.79 batch accuracy; 12727.6 examples/sec; 0.008 sec/batch) by 2017-05-19 07:28:53.739426\n",
      "Epoch 20, = (0.82 batch accuracy; 28808.0 examples/sec; 0.003 sec/batch) by 2017-05-19 07:29:46.026988\n",
      "Epoch 30, = (0.74 batch accuracy; 72742.0 examples/sec; 0.001 sec/batch) by 2017-05-19 07:30:27.867852\n",
      "Epoch 40, = (0.80 batch accuracy; 37955.8 examples/sec; 0.003 sec/batch) by 2017-05-19 07:31:15.353361\n",
      "Epoch 50, = (0.82 batch accuracy; 46910.9 examples/sec; 0.002 sec/batch) by 2017-05-19 07:32:07.303639\n",
      "Epoch 60, = (0.80 batch accuracy; 27954.6 examples/sec; 0.004 sec/batch) by 2017-05-19 07:33:00.092610\n",
      "Epoch 70, = (0.72 batch accuracy; 35142.9 examples/sec; 0.003 sec/batch) by 2017-05-19 07:33:52.518111\n",
      "Epoch 80, = (0.82 batch accuracy; 50643.6 examples/sec; 0.002 sec/batch) by 2017-05-19 07:34:44.826581\n",
      "Epoch 90, = (0.83 batch accuracy; 51038.0 examples/sec; 0.002 sec/batch) by 2017-05-19 07:35:37.182413\n",
      "Epoch 100, = (0.80 batch accuracy; 33643.3 examples/sec; 0.003 sec/batch) by 2017-05-19 07:36:28.484118\n",
      "Epoch 110, = (0.80 batch accuracy; 52904.9 examples/sec; 0.002 sec/batch) by 2017-05-19 07:37:20.387830\n",
      "Epoch 120, = (0.82 batch accuracy; 42992.0 examples/sec; 0.002 sec/batch) by 2017-05-19 07:38:12.512379\n",
      "Epoch 130, = (0.81 batch accuracy; 36951.0 examples/sec; 0.003 sec/batch) by 2017-05-19 07:39:05.121825\n",
      "Epoch 140, = (0.79 batch accuracy; 51810.3 examples/sec; 0.002 sec/batch) by 2017-05-19 07:39:56.733229\n",
      "Epoch 150, = (0.84 batch accuracy; 37551.4 examples/sec; 0.003 sec/batch) by 2017-05-19 07:40:49.340867\n",
      "Epoch 160, = (0.79 batch accuracy; 52103.2 examples/sec; 0.002 sec/batch) by 2017-05-19 07:41:41.525234\n",
      "Epoch 170, = (0.83 batch accuracy; 29836.8 examples/sec; 0.003 sec/batch) by 2017-05-19 07:42:33.703537\n",
      "Epoch 180, = (0.75 batch accuracy; 35824.3 examples/sec; 0.003 sec/batch) by 2017-05-19 07:43:26.243538\n",
      "Epoch 190, = (0.86 batch accuracy; 53780.0 examples/sec; 0.002 sec/batch) by 2017-05-19 07:44:18.381936\n",
      "\n",
      "The test accuracy = 0.810244\n",
      " \n",
      "2017-05-19 07:45:05.278609: DONE\n",
      "########################################################################################\n",
      "########################################################################################\n",
      "########################################################################################\n"
     ]
    }
   ],
   "source": [
    "from runGG_Project import main as run\n",
    "run()"
   ]
  },
  {
   "cell_type": "code",
   "execution_count": null,
   "metadata": {
    "collapsed": true
   },
   "outputs": [],
   "source": []
  }
 ],
 "metadata": {
  "anaconda-cloud": {},
  "kernelspec": {
   "display_name": "Python 3",
   "language": "python",
   "name": "python3"
  },
  "language_info": {
   "codemirror_mode": {
    "name": "ipython",
    "version": 3
   },
   "file_extension": ".py",
   "mimetype": "text/x-python",
   "name": "python",
   "nbconvert_exporter": "python",
   "pygments_lexer": "ipython3",
   "version": "3.5.0"
  }
 },
 "nbformat": 4,
 "nbformat_minor": 1
}
