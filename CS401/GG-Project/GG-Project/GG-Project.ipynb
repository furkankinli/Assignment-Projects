{
 "cells": [
  {
   "cell_type": "code",
   "execution_count": 1,
   "metadata": {
    "collapsed": false,
    "deletable": true,
    "editable": true
   },
   "outputs": [
    {
     "data": {
      "text/plain": [
       "'Already up-to-date.'"
      ]
     },
     "execution_count": 1,
     "metadata": {},
     "output_type": "execute_result"
    }
   ],
   "source": [
    "import git\n",
    "g = git.cmd.Git('/root/Projects/Assignment-Projects')\n",
    "g.pull()"
   ]
  },
  {
   "cell_type": "code",
   "execution_count": 1,
   "metadata": {
    "collapsed": false,
    "deletable": true,
    "editable": true
   },
   "outputs": [],
   "source": [
    "from Sparker.SparkLogProcesser.SparkLogFileHandler import setSparkContext\n",
    "from pyspark import SparkContext\n",
    "sc = SparkContext() \n",
    "setSparkContext(sc)"
   ]
  },
  {
   "cell_type": "code",
   "execution_count": 2,
   "metadata": {
    "collapsed": false,
    "deletable": true,
    "editable": true
   },
   "outputs": [
    {
     "name": "stdout",
     "output_type": "stream",
     "text": [
      "hdfs://osldevptst01.host.gittigidiyor.net:8020/user/root/Parsed/2016-12-26_parsed has been read by 2017-05-09 15:04:22.658010\n"
     ]
    }
   ],
   "source": [
    "from Sparker.Logic.LogicTests import *\n",
    "day2Logs = readParsedLogsFromHDFS(entireDayParsedLogsFolder2)"
   ]
  },
  {
   "cell_type": "code",
   "execution_count": 3,
   "metadata": {
    "collapsed": false,
    "deletable": true,
    "editable": true
   },
   "outputs": [],
   "source": [
    "from MainSrc.PythonVersionHandler import *\n",
    "from paths import *"
   ]
  },
  {
   "cell_type": "code",
   "execution_count": 4,
   "metadata": {
    "collapsed": false,
    "deletable": true,
    "editable": true
   },
   "outputs": [],
   "source": [
    "from Sparker.Logic.LogicTests import *\n",
    "from Sparker.Logic.Trainer import *\n",
    "#trainPairWiseData(data) "
   ]
  },
  {
   "cell_type": "code",
   "execution_count": 5,
   "metadata": {
    "collapsed": false,
    "deletable": true,
    "editable": true
   },
   "outputs": [],
   "source": [
    "def printSeparater(c = 3):\n",
    "    for n in range(c):\n",
    "        print_('#' * 88)"
   ]
  },
  {
   "cell_type": "code",
   "execution_count": 6,
   "metadata": {
    "collapsed": true,
    "deletable": true,
    "editable": true
   },
   "outputs": [],
   "source": [
    "from sklearn import svm\n",
    "\n",
    "def evaluateModelOnData(model, data, dataName = 'Data', modelName = 'Model'):\n",
    "    labelsAndPreds = data.map(lambda p: (p.label, model.predict([p.features])[0]))\n",
    "    truePredictionCount = labelsAndPreds.filter(lambda vp: vp[0] == vp[1]).count()\n",
    "    instanceCount = data.count()\n",
    "    accuracy = 100 * truePredictionCount / float(instanceCount)\n",
    "    print_('\\n'+modelName, 'has been evaluated on', dataName, 'by', nowStr())\n",
    "    print_('The result accuracy is %' + '%.3f\\n' % (accuracy))\n",
    "    return labelsAndPreds\n",
    "\n",
    "def trainPairWiseData(data, dataName = 'Data', modelName = 'Model', evaluate = True):\n",
    "    model = svm.SVC()#kernel =  'poly', degree = 3) #SVMWithSGD.train(data, iterations=100)\n",
    "    X =  data.map(lambda p: p.features).collect()\n",
    "    Y =  data.map(lambda p: p.label).collect()\n",
    "    model.fit(X, Y)\n",
    "    #print_('\\n', modelName, 'has been trained on', dataName, 'by', nowStr())\n",
    "    #print_('The learned weights:\\n' + str(model.coef_).replace(',', ', ') + '\\n')\n",
    "    if evaluate:\n",
    "        evaluateModelOnData(model, data, dataName, modelName)\n",
    "    return model\n",
    "\n",
    "def runTrainingExperiment(trainData, testData, modelName = 'Model', save = True, outputFolder = Day1_iPhone_6_DataFolder):\n",
    "    trainData = scaleTrainData(trainData)\n",
    "    testData = scaleTrainData(testData)\n",
    "    model = trainPairWiseData(trainData, 'trainData', modelName)\n",
    "    if save:\n",
    "        modelPath = joinPath(outputFolder, modelName)\n",
    "        try:\n",
    "            model.save(sc_(), modelPath)\n",
    "        except Py4JJavaError:\n",
    "            pass\n",
    "        print_(modelPath, 'has been saved successfully by', nowStr())\n",
    "    return evaluateModelOnData(model, testData, 'testData', modelName)"
   ]
  },
  {
   "cell_type": "code",
   "execution_count": 7,
   "metadata": {
    "collapsed": false,
    "deletable": true,
    "editable": true
   },
   "outputs": [],
   "source": [
    "def featureFilter(trainData):\n",
    "    return trainData.map(lambda x: LabeledPoint(x.label, list(x.features[1:4]) + list(x.features[5:6]) + list(x.features[7:-2])))\n",
    "\n",
    "def runExperiment(trainData, modelName = 'Model'):\n",
    "    printSeparater(1)\n",
    "    testData, trainData = trainData.randomSplit(weights=[0.3, 0.7])\n",
    "    runTrainingExperiment(trainData, testData, modelName = modelName, save = False)\n",
    "    print_('The experiment for', modelName, 'has been completed by', nowStr())\n",
    "    printSeparater(1)\n",
    "    \n",
    "def trainPairWiseDataTestKeyword2(keyword):\n",
    "    printSeparater(2)\n",
    "    keyword = keyword.replace(' ', '_')\n",
    "    inputName = 'all_day'\n",
    "    outputFolder = joinPath(HDFSDataFolder, 'Day1_' + keyword + '_Data')\n",
    "    trainDataFile = joinPath(outputFolder, inputName + '_' + keyword + '_TrainData')\n",
    "    trainData = readTrainDataFromHDFS(trainDataFile)\n",
    "    runExperiment(trainData, modelName = 'ExtendedModel')\n",
    "    trainData = featureFilter(trainData)\n",
    "    runExperiment(trainData, modelName = 'FilteredModel')\n",
    "    printSeparater(2)"
   ]
  },
  {
   "cell_type": "code",
   "execution_count": 8,
   "metadata": {
    "collapsed": false,
    "deletable": true,
    "editable": true
   },
   "outputs": [],
   "source": [
    "#trainPairWiseDataTestKeyword2('iphone 6')"
   ]
  },
  {
   "cell_type": "code",
   "execution_count": 13,
   "metadata": {
    "collapsed": false
   },
   "outputs": [],
   "source": [
    "import pickle\n",
    "def savePairWisetrainData(keyword):\n",
    "    printSeparater(2)\n",
    "    keyword = keyword.replace(' ', '_')\n",
    "    inputName = 'all_day'\n",
    "    outputFolder = joinPath(HDFSDataFolder, 'Day1_' + keyword + '_Data')\n",
    "    dataTypes = ['_TrainData', '_labeledPairs', '_journey_products']\n",
    "    for typ in dataTypes:\n",
    "        fileName = inputName + '_' + keyword + typ\n",
    "        trainDataFile = joinPath(outputFolder, fileName)\n",
    "        trainData = sc_().textFile(trainDataFile)\n",
    "        f = joinPath('/root/Projects/TrainData6', fileName)\n",
    "        trainData.coalesce(1).saveAsTextFile(f)\n",
    "        print_(f, 'has been saved successfully by', nowStr())\n",
    "        continue\n",
    "        trainData = trainData.collect()\n",
    "        fp = open(f, \"wb\")   #Pickling\n",
    "        pickle.dump(trainData, fp)"
   ]
  },
  {
   "cell_type": "code",
   "execution_count": 10,
   "metadata": {
    "collapsed": false,
    "deletable": true,
    "editable": true
   },
   "outputs": [],
   "source": [
    "def trainPairWiseDataTest():\n",
    "    keywords = ['iphone 6', 'jant', 'nike air max', 'tv unitesi', 'kot ceket', 'camasir makinesi', 'bosch']\n",
    "    for keyword in keywords[3:4]:\n",
    "        #trainPairWiseDataTestKeyword2(keyword)readTrainDataFromHDFS\n",
    "        savePairWisetrainData(keyword)"
   ]
  },
  {
   "cell_type": "code",
   "execution_count": 11,
   "metadata": {
    "collapsed": true,
    "deletable": true,
    "editable": true
   },
   "outputs": [],
   "source": [
    "def main():\n",
    "    printSeparater()\n",
    "    print_('%s:' % nowStr(), 'Running on osldevptst02:Jupyter...')\n",
    "\n",
    "    trainPairWiseDataTest()\n",
    "\n",
    "    print_('%s:' % nowStr(), 'DONE')\n",
    "    printSeparater()\n"
   ]
  },
  {
   "cell_type": "code",
   "execution_count": 15,
   "metadata": {
    "collapsed": false,
    "deletable": true,
    "editable": true,
    "scrolled": true
   },
   "outputs": [
    {
     "name": "stdout",
     "output_type": "stream",
     "text": [
      "########################################################################################\n",
      "########################################################################################\n",
      "########################################################################################\n",
      "2017-05-09 15:09:16.404133: Running on osldevptst02:Jupyter...\n",
      "########################################################################################\n",
      "########################################################################################\n",
      "/root/Projects/TrainData6/all_day_tv_unitesi_TrainData has been saved successfully by 2017-05-09 15:09:35.835378\n",
      "/root/Projects/TrainData6/all_day_tv_unitesi_labeledPairs has been saved successfully by 2017-05-09 15:09:56.224687\n",
      "/root/Projects/TrainData6/all_day_tv_unitesi_journey_products has been saved successfully by 2017-05-09 15:09:58.585784\n",
      "2017-05-09 15:09:58.589724: DONE\n",
      "########################################################################################\n",
      "########################################################################################\n",
      "########################################################################################\n"
     ]
    }
   ],
   "source": [
    "main()"
   ]
  },
  {
   "cell_type": "code",
   "execution_count": null,
   "metadata": {
    "collapsed": true,
    "deletable": true,
    "editable": true
   },
   "outputs": [],
   "source": []
  }
 ],
 "metadata": {
  "kernelspec": {
   "display_name": "Python 3",
   "language": "python",
   "name": "python3"
  },
  "language_info": {
   "codemirror_mode": {
    "name": "ipython",
    "version": 3
   },
   "file_extension": ".py",
   "mimetype": "text/x-python",
   "name": "python",
   "nbconvert_exporter": "python",
   "pygments_lexer": "ipython3",
   "version": "3.5.2"
  }
 },
 "nbformat": 4,
 "nbformat_minor": 2
}
