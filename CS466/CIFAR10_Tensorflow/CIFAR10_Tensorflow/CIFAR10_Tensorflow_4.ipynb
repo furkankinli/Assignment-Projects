{
 "cells": [
  {
   "cell_type": "code",
   "execution_count": 1,
   "metadata": {
    "collapsed": true
   },
   "outputs": [],
   "source": [
    "import tfFLAGS;  tfFLAGS.num_gpus = 2\n",
    "tfFLAGS.LEARNING_RATE_DECAY_FACTOR = 0.1;           tfFLAGS.NUM_CLASSES = 10;              tfFLAGS.run_once = True\n",
    "tfFLAGS.NUM_EXAMPLES_PER_EPOCH_FOR_TRAIN = 50000;   tfFLAGS.batch_size = 128;              tfFLAGS.use_fp16 = False\n",
    "tfFLAGS.NUM_EXAMPLES_PER_EPOCH_FOR_EVAL = 10000;    tfFLAGS.log_frequency = 100;           tfFLAGS.max_steps = 15000 #x2 on CPU  \n",
    "tfFLAGS.MOVING_AVERAGE_DECAY = 0.9999;              tfFLAGS.NUM_EPOCHS_PER_DECAY = 350.0;  tfFLAGS.IMAGE_SIZE = 32;\n",
    "tfFLAGS.INITIAL_LEARNING_RATE = 0.1;                tfFLAGS.eval_interval_secs = 60 * 5;   tfFLAGS.num_examples = 10000\n",
    "tfFLAGS.data_dir = '/tmp/cifar10_data';             tfFLAGS.train_dir = '/tmp/cifar10_train'\n",
    "tfFLAGS.eval_dir = '/tmp/cifar10_eval';  tfFLAGS.checkpoint_dir = '/tmp/cifar10_train';  tfFLAGS.eval_data = 'test'"
   ]
  },
  {
   "cell_type": "code",
   "execution_count": 20,
   "metadata": {},
   "outputs": [
    {
     "name": "stdout",
     "output_type": "stream",
     "text": [
      "Summary of Network 1:\n",
      "conv1Shape: [5, 5, 3, 8]\n",
      "pool1ksize: [1, 4, 4, 1]  | pool1strides: [1, 2, 2, 1]  | pool1padding: SAME\n",
      "conv2Shape: [5, 5, 8, 10]\n",
      "pool2ksize: [1, 3, 3, 1]  | pool2strides: [1, 2, 2, 1]  | pool2padding: SAME\n",
      "local3InputDepth: 640  | local3OutputDepth: 640\n",
      "local4InputDepth: 640  | local4OutputDepth: 16\n",
      "softmax_linearInput: 16\n",
      "\n",
      "Number of hidden parameters of conv1: 600\n",
      "Number of hidden parameters of conv1Biases: 8\n",
      "Number of hidden parameters of conv2: 2000\n",
      "Number of hidden parameters of conv2Biases: 10\n",
      "Number of hidden parameters of local3: 409600\n",
      "Number of hidden parameters of local3Biases: 640\n",
      "Number of hidden parameters of local4: 10240\n",
      "Number of hidden parameters of local4Biases: 16\n",
      "Number of hidden parameters of softmax: 160\n",
      "Number of hidden parameters of softmaxBiases: 10\n",
      "Total number of hidden parameters: 423284\n"
     ]
    }
   ],
   "source": [
    "import MyModel as m1 \n",
    "m1.conv1Size = 5; m1.conv1Out = 8; m1.conv1Shape = [m1.conv1Size, m1.conv1Size, 3, m1.conv1Out]\n",
    "m1.conv2Size = 5; m1.conv2Shape = [m1.conv2Size, m1.conv2Size, m1.conv1Out, 10]\n",
    "\n",
    "m1.pool1S = 4; m1.pool1ksize=[1, m1.pool1S, m1.pool1S, 1]; m1.pool1St = 2; m1.pool1strides=[1, m1.pool1St, m1.pool1St, 1]; m1.pool1padding='SAME'\n",
    "m1.pool2S = 3; m1.pool2ksize=[1, m1.pool2S, m1.pool2S, 1]; m1.pool2St = 2; m1.pool2strides=[1, m1.pool2St, m1.pool2St, 1]; m1.pool2padding='SAME'\n",
    "\n",
    "m1.local3InputDepth = 64 * m1.conv2Shape[-1]; m1.local3OutputDepth = m1.local3InputDepth\n",
    "m1.local4InputDepth = m1.local3OutputDepth; m1.local4OutputDepth = 16\n",
    "m1.softmax_linearInput = m1.local4OutputDepth\n",
    "m1.summarizeModel()"
   ]
  },
  {
   "cell_type": "code",
   "execution_count": null,
   "metadata": {
    "scrolled": true
   },
   "outputs": [
    {
     "name": "stdout",
     "output_type": "stream",
     "text": [
      "########################################################################################\n",
      "########################################################################################\n",
      "########################################################################################\n",
      "2017-05-06 11:11:42.096409: Running on server...\n",
      "The experiment details:\n",
      "max_steps = 15000 log_frequency = 100 num_gpus = 2\n",
      "Filling queue with 20000 CIFAR images before starting to train. This will take a few minutes.\n",
      "Filling queue with 20000 CIFAR images before starting to train. This will take a few minutes.\n",
      "Number of hidden parameters of conv1: 48\n",
      "Number of hidden parameters of conv1Biases: 4\n",
      "Number of hidden parameters of conv2: 160\n",
      "Number of hidden parameters of conv2Biases: 10\n",
      "Number of hidden parameters of local3: 409600\n",
      "Number of hidden parameters of local3Biases: 640\n",
      "Number of hidden parameters of local4: 40960\n",
      "Number of hidden parameters of local4Biases: 64\n",
      "Number of hidden parameters of softmax: 640\n",
      "Number of hidden parameters of softmaxBiases: 10\n",
      "Total Number of hidden parameters: 452136\n",
      "2017-05-06 11:12:03.407998: step 0, loss = 5.72 (15.8 examples/sec; 8.103 sec/batch)\n",
      "2017-05-06 11:12:15.647536: step 100, loss = 5.62 (2493.8 examples/sec; 0.051 sec/batch)\n",
      "2017-05-06 11:12:26.567917: step 200, loss = 4.88 (2468.5 examples/sec; 0.052 sec/batch)\n",
      "2017-05-06 11:12:37.481831: step 300, loss = 4.22 (2368.2 examples/sec; 0.054 sec/batch)\n",
      "2017-05-06 11:12:48.395451: step 400, loss = 4.21 (2494.0 examples/sec; 0.051 sec/batch)\n",
      "2017-05-06 11:12:59.330326: step 500, loss = 3.79 (2435.7 examples/sec; 0.053 sec/batch)\n",
      "2017-05-06 11:13:10.243357: step 600, loss = 4.00 (2387.0 examples/sec; 0.054 sec/batch)\n",
      "2017-05-06 11:13:21.173649: step 700, loss = 3.82 (2384.1 examples/sec; 0.054 sec/batch)\n",
      "2017-05-06 11:13:32.118813: step 800, loss = 3.78 (2363.7 examples/sec; 0.054 sec/batch)\n",
      "2017-05-06 11:13:43.012659: step 900, loss = 3.60 (2366.1 examples/sec; 0.054 sec/batch)\n",
      "2017-05-06 11:13:53.937309: step 1000, loss = 3.21 (2344.8 examples/sec; 0.055 sec/batch)\n",
      "2017-05-06 11:14:06.225270: step 1100, loss = 3.39 (2425.7 examples/sec; 0.053 sec/batch)\n",
      "2017-05-06 11:14:17.173157: step 1200, loss = 3.45 (2442.2 examples/sec; 0.052 sec/batch)\n",
      "2017-05-06 11:14:28.109131: step 1300, loss = 3.42 (2478.3 examples/sec; 0.052 sec/batch)\n",
      "2017-05-06 11:14:39.072173: step 1400, loss = 2.86 (2314.5 examples/sec; 0.055 sec/batch)\n",
      "2017-05-06 11:14:50.023947: step 1500, loss = 3.03 (2311.9 examples/sec; 0.055 sec/batch)\n",
      "2017-05-06 11:15:00.952594: step 1600, loss = 2.80 (2184.2 examples/sec; 0.059 sec/batch)\n",
      "2017-05-06 11:15:11.917513: step 1700, loss = 3.39 (2418.1 examples/sec; 0.053 sec/batch)\n",
      "2017-05-06 11:15:22.899673: step 1800, loss = 2.76 (2423.7 examples/sec; 0.053 sec/batch)\n",
      "2017-05-06 11:15:33.904890: step 1900, loss = 2.91 (2418.6 examples/sec; 0.053 sec/batch)\n",
      "2017-05-06 11:15:44.993104: step 2000, loss = 2.69 (2214.5 examples/sec; 0.058 sec/batch)\n",
      "2017-05-06 11:15:57.271545: step 2100, loss = 2.42 (2124.0 examples/sec; 0.060 sec/batch)\n",
      "2017-05-06 11:16:08.260832: step 2200, loss = 2.33 (2094.2 examples/sec; 0.061 sec/batch)\n",
      "2017-05-06 11:16:19.256730: step 2300, loss = 2.74 (2285.8 examples/sec; 0.056 sec/batch)\n",
      "2017-05-06 11:16:30.270933: step 2400, loss = 2.05 (2406.5 examples/sec; 0.053 sec/batch)\n",
      "2017-05-06 11:16:41.299608: step 2500, loss = 2.51 (2334.7 examples/sec; 0.055 sec/batch)\n",
      "2017-05-06 11:16:52.317211: step 2600, loss = 2.47 (2463.9 examples/sec; 0.052 sec/batch)\n",
      "2017-05-06 11:17:03.332147: step 2700, loss = 2.65 (2362.4 examples/sec; 0.054 sec/batch)\n",
      "2017-05-06 11:17:14.370923: step 2800, loss = 2.35 (2249.7 examples/sec; 0.057 sec/batch)\n",
      "2017-05-06 11:17:25.399969: step 2900, loss = 2.45 (2197.5 examples/sec; 0.058 sec/batch)\n",
      "2017-05-06 11:17:36.421519: step 3000, loss = 2.39 (2280.9 examples/sec; 0.056 sec/batch)\n",
      "2017-05-06 11:17:48.645974: step 3100, loss = 1.59 (2406.0 examples/sec; 0.053 sec/batch)\n",
      "2017-05-06 11:17:59.644815: step 3200, loss = 2.10 (2642.5 examples/sec; 0.048 sec/batch)\n"
     ]
    }
   ],
   "source": [
    "from runCIFAR10_Tensorflow import main\n",
    "main()"
   ]
  },
  {
   "cell_type": "code",
   "execution_count": 9,
   "metadata": {},
   "outputs": [
    {
     "name": "stdout",
     "output_type": "stream",
     "text": [
      "########################################################################################\n",
      "########################################################################################\n",
      "########################################################################################\n",
      "2017-05-06 10:58:27.738511: Running on server...\n",
      "The experiment details:\n",
      "max_steps = 100 log_frequency = 100 num_gpus = 2\n",
      "Filling queue with 20000 CIFAR images before starting to train. This will take a few minutes.\n",
      "Filling queue with 20000 CIFAR images before starting to train. This will take a few minutes.\n",
      "Number of hidden parameters of conv1: 48\n",
      "Number of hidden parameters of conv1Biases: 4\n",
      "Number of hidden parameters of conv2: 160\n",
      "Number of hidden parameters of conv2Biases: 10\n",
      "Number of hidden parameters of local3: 409600\n",
      "Number of hidden parameters of local3Biases: 640\n",
      "Number of hidden parameters of local4: 40960\n",
      "Number of hidden parameters of local4Biases: 64\n",
      "Number of hidden parameters of softmax: 640\n",
      "Number of hidden parameters of softmaxBiases: 10\n",
      "Total Number of hidden parameters: 452136\n",
      "2017-05-06 10:58:49.596033: step 0, loss = 5.72 (15.5 examples/sec; 8.235 sec/batch)\n",
      "2017-05-06 10:59:03.509495: DONE\n",
      "########################################################################################\n",
      "########################################################################################\n",
      "########################################################################################\n"
     ]
    }
   ],
   "source": [
    "from cifar10_multi_gpu_train import main as run_cifar10_multi_gpu_train\n",
    "from cifar10_train import main as run_cifar10_train\n",
    "from runCIFAR10_Tensorflow import *\n",
    "from paths import *\n",
    "printSeparater()\n",
    "print_('%s:' % nowStr(), 'Running on', COMPUTERNAME + '...')\n",
    "tfFLAGS.printExperimentDetails()\n",
    "if tfFLAGS.num_gpus < 2: \n",
    "    tfFLAGS.max_steps *= 2\n",
    "if tfFLAGS.num_gpus > 0:\n",
    "    run_cifar10_multi_gpu_train()\n",
    "else:\n",
    "    run_cifar10_train()\n",
    "print_('%s:' % nowStr(), 'DONE')\n",
    "printSeparater()"
   ]
  },
  {
   "cell_type": "code",
   "execution_count": 5,
   "metadata": {},
   "outputs": [
    {
     "name": "stdout",
     "output_type": "stream",
     "text": [
      "########################################################################################\n",
      "########################################################################################\n",
      "########################################################################################\n",
      "2017-05-06 11:10:26.611843: Running on server...\n",
      "The experiment details:\n",
      "max_steps = 1000 log_frequency = 100 num_gpus = 2\n",
      "Evaluation results:\n",
      "2017-05-06 11:10:31.806294: Total Predictions = 10112\n",
      "2017-05-06 11:10:31.814594: Correct Predictions = 5545\n",
      "2017-05-06 11:10:31.822645: Wrong Predictions = 4567\n",
      "2017-05-06 11:10:31.830522: precision @ 1 = 0.548\n",
      "2017-05-06 11:10:31.894911: DONE\n",
      "########################################################################################\n",
      "########################################################################################\n",
      "########################################################################################\n"
     ]
    }
   ],
   "source": [
    "from cifar10_eval import main as run_cifar10_eval\n",
    "from runCIFAR10_Tensorflow import *\n",
    "from paths import *\n",
    "printSeparater()\n",
    "print_('%s:' % nowStr(), 'Running on', COMPUTERNAME + '...')\n",
    "tfFLAGS.printExperimentDetails()\n",
    "run_cifar10_eval() \n",
    "print_('%s:' % nowStr(), 'DONE')\n",
    "printSeparater()"
   ]
  },
  {
   "cell_type": "code",
   "execution_count": null,
   "metadata": {
    "collapsed": true
   },
   "outputs": [],
   "source": []
  }
 ],
 "metadata": {
  "kernelspec": {
   "display_name": "Python 3",
   "language": "python",
   "name": "python3"
  },
  "language_info": {
   "codemirror_mode": {
    "name": "ipython",
    "version": 3
   },
   "file_extension": ".py",
   "mimetype": "text/x-python",
   "name": "python",
   "nbconvert_exporter": "python",
   "pygments_lexer": "ipython3",
   "version": "3.5.0"
  }
 },
 "nbformat": 4,
 "nbformat_minor": 2
}
