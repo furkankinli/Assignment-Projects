{
 "cells": [
  {
   "cell_type": "code",
   "execution_count": 1,
   "metadata": {
    "collapsed": true
   },
   "outputs": [],
   "source": [
    "class CustomConfig(object):\n",
    "    \"\"\"Custom config.\"\"\"\n",
    "    is_char_model = True\n",
    "    optimizer = 'AdamOptimizer'\n",
    "    init_scale = 0.1\n",
    "    learning_rate = 1.0\n",
    "    max_grad_norm = 5\n",
    "    num_layers = 5\n",
    "    num_steps = 4\n",
    "    hidden_size = 200\n",
    "    max_epoch = 13\n",
    "    max_max_epoch = 56\n",
    "    keep_prob = 1.0\n",
    "    lr_decay = 0.5\n",
    "    batch_size = 20\n",
    "    vocab_size = 27486"
   ]
  },
  {
   "cell_type": "code",
   "execution_count": 2,
   "metadata": {},
   "outputs": [
    {
     "name": "stderr",
     "output_type": "stream",
     "text": [
      "########################################################################################\n",
      "########################################################################################\n",
      "########################################################################################\n",
      "2017-05-31 07:13:18.402303: Running on UCSC:citrisdense...\n",
      "Distinct terms: 50\n",
      "epoch 155\n",
      "Seed: free\n",
      "Sample: \n",
      "o0->d5fN<eos>/y.8uau5$saaqiiN\n",
      "2017-05-31 07:16:55.628168: Epoch: 1 Learning rate: 0.050\n",
      "valid data size: 5017482\n",
      "2017-05-31 07:17:02.457117: 0.002 perplexity: 32.315 speed: 1703 wps\n",
      "2017-05-31 07:19:18.410470: 0.102 perplexity: 16.055 speed: 3591 wps\n",
      "2017-05-31 07:21:34.367231: 0.202 perplexity: 12.529 speed: 3636 wps\n",
      "2017-05-31 07:23:50.335176: 0.301 perplexity: 11.524 speed: 3651 wps\n",
      "2017-05-31 07:26:06.571482: 0.401 perplexity: 11.110 speed: 3657 wps\n",
      "2017-05-31 07:28:22.504514: 0.501 perplexity: 10.865 speed: 3663 wps\n",
      "2017-05-31 07:30:38.552422: 0.601 perplexity: 10.761 speed: 3666 wps\n",
      "2017-05-31 07:32:54.623943: 0.701 perplexity: 10.675 speed: 3668 wps\n",
      "2017-05-31 07:35:11.035775: 0.801 perplexity: 10.643 speed: 3668 wps\n",
      "2017-05-31 07:37:26.495372: 0.900 perplexity: 10.621 speed: 3671 wps\n",
      "Cost: 1481788.10098 iter: 627072\n",
      "2017-05-31 07:39:42.419257: Epoch: 1 Train Perplexity: 10.623\n",
      "valid data size: 393042\n",
      "Cost: 104257.96286 iter: 49024\n",
      "2017-05-31 07:40:19.999316: Epoch: 1 Valid Perplexity: 8.387\n",
      "Seed: free\n",
      "Sample: \n",
      "*******  dannh nion wovel\n",
      "2017-05-31 07:41:07.702672: Epoch: 2 Learning rate: 0.050\n",
      "valid data size: 5017482\n",
      "2017-05-31 07:41:11.120082: 0.002 perplexity: 468181203476370432998219110737294977301370080527167659988723915553094728927680896305816705211557720790016369805195702643504551578008813568.000 speed: 3327 wps\n",
      "2017-05-31 07:43:26.851298: 0.102 perplexity: 28419171631704338432.000 speed: 3680 wps\n",
      "2017-05-31 07:45:43.069505: 0.202 perplexity: 32784675961.611 speed: 3678 wps\n",
      "2017-05-31 07:47:58.471546: 0.301 perplexity: 109549808.646 speed: 3685 wps\n",
      "2017-05-31 07:50:14.782849: 0.401 perplexity: 25231239.111 speed: 3682 wps\n",
      "2017-05-31 07:52:30.464616: 0.501 perplexity: 10362473.853 speed: 3684 wps\n",
      "2017-05-31 07:54:46.348264: 0.601 perplexity: 6473443.382 speed: 3684 wps\n",
      "2017-05-31 07:57:02.181576: 0.701 perplexity: 4848414.132 speed: 3684 wps\n",
      "2017-05-31 07:59:18.186209: 0.801 perplexity: 3917297.112 speed: 3684 wps\n",
      "2017-05-31 08:01:33.928256: 0.900 perplexity: 3321517.920 speed: 3684 wps\n",
      "Cost: 9274266.88583 iter: 627072\n",
      "2017-05-31 08:03:49.529826: Epoch: 2 Train Perplexity: 2649273.173\n",
      "valid data size: 393042\n",
      "Cost: 461333.945923 iter: 49024\n",
      "2017-05-31 08:04:26.495211: Epoch: 2 Valid Perplexity: 12214.381\n",
      "2017-05-31 08:04:27.026394: Seed: free\n",
      "2017-05-31 08:04:27.037413: Sample: \n",
      "*******   ery mop maikafa\n",
      "valid data size: 442423\n",
      "Cost: 906132.388017 iter: 442422\n",
      "2017-05-31 08:19:59.991529: Test Perplexity: 7.753\n",
      "2017-05-31 08:20:00.948182: DONE\n",
      "########################################################################################\n",
      "########################################################################################\n",
      "########################################################################################\n"
     ]
    }
   ],
   "source": [
    "from ptb_word_lm import main as runPTB, CharSmallConfig\n",
    "from runRNNTextGenerator import main as run\n",
    "#def PTB(): runPTB(CustomConfig)\n",
    "def PTB(): runPTB(CharSmallConfig)\n",
    "run(PTB)"
   ]
  },
  {
   "cell_type": "code",
   "execution_count": null,
   "metadata": {
    "collapsed": true
   },
   "outputs": [],
   "source": []
  }
 ],
 "metadata": {
  "anaconda-cloud": {},
  "kernelspec": {
   "display_name": "Python 3",
   "language": "python",
   "name": "python3"
  },
  "language_info": {
   "codemirror_mode": {
    "name": "ipython",
    "version": 3
   },
   "file_extension": ".py",
   "mimetype": "text/x-python",
   "name": "python",
   "nbconvert_exporter": "python",
   "pygments_lexer": "ipython3",
   "version": "3.5.0"
  }
 },
 "nbformat": 4,
 "nbformat_minor": 1
}
