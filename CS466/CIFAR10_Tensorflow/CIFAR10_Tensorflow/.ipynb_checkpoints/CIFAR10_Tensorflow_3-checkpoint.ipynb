{
 "cells": [
  {
   "cell_type": "code",
   "execution_count": 1,
   "metadata": {},
   "outputs": [],
   "source": [
    "import tfFLAGS;  tfFLAGS.num_gpus = 2\n",
    "tfFLAGS.LEARNING_RATE_DECAY_FACTOR = 0.1;           tfFLAGS.NUM_CLASSES = 10;              tfFLAGS.run_once = True\n",
    "tfFLAGS.NUM_EXAMPLES_PER_EPOCH_FOR_TRAIN = 50000;   tfFLAGS.batch_size = 128;              tfFLAGS.use_fp16 = False\n",
    "tfFLAGS.NUM_EXAMPLES_PER_EPOCH_FOR_EVAL = 10000;    tfFLAGS.log_frequency = 100;           tfFLAGS.max_steps = 100 #x2 on CPU  \n",
    "tfFLAGS.MOVING_AVERAGE_DECAY = 0.9999;              tfFLAGS.NUM_EPOCHS_PER_DECAY = 350.0;  tfFLAGS.IMAGE_SIZE = 32;\n",
    "tfFLAGS.INITIAL_LEARNING_RATE = 0.1;                tfFLAGS.eval_interval_secs = 60 * 5;   tfFLAGS.num_examples = 10000\n",
    "tfFLAGS.data_dir = '/tmp/cifar10_data';             tfFLAGS.train_dir = '/tmp/cifar10_train'\n",
    "tfFLAGS.eval_dir = '/tmp/cifar10_eval';  tfFLAGS.checkpoint_dir = '/tmp/cifar10_train';  tfFLAGS.eval_data = 'test'\n",
    "tfFLAGS.data_dir = '/tmp/cifar10_data';             tfFLAGS.train_dir2 = '/tmp/cifar10_train2'\n",
    "tfFLAGS.eval_dir = '/tmp/cifar10_eval2';  tfFLAGS.checkpoint_dir2 = '/tmp/cifar10_train2';  tfFLAGS.eval_data = 'test'\n",
    "tfFLAGS.network = 2"
   ]
  },
  {
   "cell_type": "code",
   "execution_count": 2,
   "metadata": {},
   "outputs": [
    {
     "name": "stdout",
     "output_type": "stream",
     "text": [
      "Summary of Network 1:\n",
      "conv1Shape: [5, 5, 3, 8]\n",
      "pool1ksize: [1, 4, 4, 1]  | pool1strides: [1, 2, 2, 1]  | pool1padding: SAME\n",
      "conv2Shape: [5, 5, 8, 10]\n",
      "pool2ksize: [1, 3, 3, 1]  | pool2strides: [1, 2, 2, 1]  | pool2padding: SAME\n",
      "local3InputDepth: 640  | local3OutputDepth: 640\n",
      "local4InputDepth: 640  | local4OutputDepth: 16\n",
      "softmax_linearInput: 16\n",
      "\n",
      "Number of hidden parameters of conv1: 600\n",
      "Number of hidden parameters of conv1Biases: 8\n",
      "Number of hidden parameters of conv2: 2000\n",
      "Number of hidden parameters of conv2Biases: 10\n",
      "Number of hidden parameters of local3: 409600\n",
      "Number of hidden parameters of local3Biases: 640\n",
      "Number of hidden parameters of local4: 10240\n",
      "Number of hidden parameters of local4Biases: 16\n",
      "Number of hidden parameters of softmax: 160\n",
      "Number of hidden parameters of softmaxBiases: 10\n",
      "Total number of hidden parameters: 423284\n"
     ]
    }
   ],
   "source": [
    "if tfFLAGS.network == 1:\n",
    "    import MyModel as m\n",
    "else:\n",
    "    import MyModel2 as m\n",
    "m.summarizeModel()"
   ]
  },
  {
   "cell_type": "code",
   "execution_count": 3,
   "metadata": {
    "scrolled": true
   },
   "outputs": [
    {
     "name": "stdout",
     "output_type": "stream",
     "text": [
      "########################################################################################\n",
      "########################################################################################\n",
      "########################################################################################\n",
      "2017-05-06 12:32:38.181842: Running on server...\n",
      "The experiment details:\n",
      "max_steps = 100 log_frequency = 100 num_gpus = 2\n",
      "Filling queue with 20000 CIFAR images before starting to train. This will take a few minutes.\n",
      "Filling queue with 20000 CIFAR images before starting to train. This will take a few minutes.\n",
      "Number of hidden parameters of conv1: 600\n",
      "Number of hidden parameters of conv1Biases: 8\n",
      "Number of hidden parameters of conv2: 2000\n",
      "Number of hidden parameters of conv2Biases: 10\n",
      "Number of hidden parameters of local3: 409600\n",
      "Number of hidden parameters of local3Biases: 640\n",
      "Number of hidden parameters of local4: 10240\n",
      "Number of hidden parameters of local4Biases: 16\n",
      "Number of hidden parameters of softmax: 160\n",
      "Number of hidden parameters of softmaxBiases: 10\n",
      "Total Number of hidden parameters: 423284\n",
      "2017-05-06 12:33:02.958534: step 0, loss = 5.64 (15.5 examples/sec; 8.245 sec/batch)\n",
      "Filling queue with 20000 CIFAR images before starting to train. This will take a few minutes.\n",
      "Evaluation results:\n",
      "2017-05-06 12:33:43.425917: Total Predictions = 10112\n",
      "2017-05-06 12:33:43.434316: Correct Predictions = 2567\n",
      "2017-05-06 12:33:43.441462: Wrong Predictions = 7545\n",
      "2017-05-06 12:33:43.448371: precision @ 1 = 0.254\n",
      "2017-05-06 12:33:43.646723: DONE\n",
      "########################################################################################\n",
      "########################################################################################\n",
      "########################################################################################\n"
     ]
    }
   ],
   "source": [
    "from runCIFAR10_Tensorflow import main\n",
    "main()"
   ]
  },
  {
   "cell_type": "code",
   "execution_count": 9,
   "metadata": {},
   "outputs": [
    {
     "name": "stdout",
     "output_type": "stream",
     "text": [
      "########################################################################################\n",
      "########################################################################################\n",
      "########################################################################################\n",
      "2017-05-06 10:58:27.738511: Running on server...\n",
      "The experiment details:\n",
      "max_steps = 100 log_frequency = 100 num_gpus = 2\n",
      "Filling queue with 20000 CIFAR images before starting to train. This will take a few minutes.\n",
      "Filling queue with 20000 CIFAR images before starting to train. This will take a few minutes.\n",
      "Number of hidden parameters of conv1: 48\n",
      "Number of hidden parameters of conv1Biases: 4\n",
      "Number of hidden parameters of conv2: 160\n",
      "Number of hidden parameters of conv2Biases: 10\n",
      "Number of hidden parameters of local3: 409600\n",
      "Number of hidden parameters of local3Biases: 640\n",
      "Number of hidden parameters of local4: 40960\n",
      "Number of hidden parameters of local4Biases: 64\n",
      "Number of hidden parameters of softmax: 640\n",
      "Number of hidden parameters of softmaxBiases: 10\n",
      "Total Number of hidden parameters: 452136\n",
      "2017-05-06 10:58:49.596033: step 0, loss = 5.72 (15.5 examples/sec; 8.235 sec/batch)\n",
      "2017-05-06 10:59:03.509495: DONE\n",
      "########################################################################################\n",
      "########################################################################################\n",
      "########################################################################################\n"
     ]
    }
   ],
   "source": [
    "from cifar10_multi_gpu_train import main as run_cifar10_multi_gpu_train\n",
    "from cifar10_train import main as run_cifar10_train\n",
    "from runCIFAR10_Tensorflow import *\n",
    "from paths import *\n",
    "printSeparater()\n",
    "print_('%s:' % nowStr(), 'Running on', COMPUTERNAME + '...')\n",
    "tfFLAGS.printExperimentDetails()\n",
    "if tfFLAGS.num_gpus < 2: \n",
    "    tfFLAGS.max_steps *= 2\n",
    "if tfFLAGS.num_gpus > 0:\n",
    "    run_cifar10_multi_gpu_train()\n",
    "else:\n",
    "    run_cifar10_train()\n",
    "print_('%s:' % nowStr(), 'DONE')\n",
    "printSeparater()"
   ]
  },
  {
   "cell_type": "code",
   "execution_count": 4,
   "metadata": {},
   "outputs": [
    {
     "name": "stdout",
     "output_type": "stream",
     "text": [
      "########################################################################################\n",
      "########################################################################################\n",
      "########################################################################################\n",
      "2017-05-06 12:36:27.237204: Running on server...\n",
      "The experiment details:\n",
      "max_steps = 100 log_frequency = 100 num_gpus = 2\n",
      "Filling queue with 20000 CIFAR images before starting to train. This will take a few minutes.\n",
      "Evaluation results:\n",
      "2017-05-06 12:36:53.291183: Total Predictions = 10112\n",
      "2017-05-06 12:36:53.300647: Correct Predictions = 2604\n",
      "2017-05-06 12:36:53.310898: Wrong Predictions = 7508\n",
      "2017-05-06 12:36:53.319626: precision @ 1 = 0.258\n",
      "2017-05-06 12:36:53.517710: DONE\n",
      "########################################################################################\n",
      "########################################################################################\n",
      "########################################################################################\n"
     ]
    }
   ],
   "source": [
    "from cifar10_eval import main as run_cifar10_eval\n",
    "from runCIFAR10_Tensorflow import *\n",
    "from paths import *\n",
    "printSeparater()\n",
    "print_('%s:' % nowStr(), 'Running on', COMPUTERNAME + '...')\n",
    "tfFLAGS.printExperimentDetails()\n",
    "run_cifar10_eval() \n",
    "print_('%s:' % nowStr(), 'DONE')\n",
    "printSeparater()"
   ]
  },
  {
   "cell_type": "code",
   "execution_count": 4,
   "metadata": {},
   "outputs": [
    {
     "name": "stdout",
     "output_type": "stream",
     "text": [
      "########################################################################################\n",
      "########################################################################################\n",
      "########################################################################################\n",
      "2017-05-06 12:36:27.237204: Running on server...\n",
      "The experiment details:\n",
      "max_steps = 100 log_frequency = 100 num_gpus = 2\n",
      "Filling queue with 20000 CIFAR images before starting to train. This will take a few minutes.\n",
      "Evaluation results:\n",
      "2017-05-06 12:36:53.291183: Total Predictions = 10112\n",
      "2017-05-06 12:36:53.300647: Correct Predictions = 2604\n",
      "2017-05-06 12:36:53.310898: Wrong Predictions = 7508\n",
      "2017-05-06 12:36:53.319626: precision @ 1 = 0.258\n",
      "2017-05-06 12:36:53.517710: DONE\n",
      "########################################################################################\n",
      "########################################################################################\n",
      "########################################################################################\n"
     ]
    }
   ],
   "source": [
    "from cifar10_eval import mainWithMcnemar as run_cifar10_evalWithMcnemar\n",
    "from runCIFAR10_Tensorflow import *\n",
    "from paths import *\n",
    "printSeparater()\n",
    "print_('%s:' % nowStr(), 'Running on', COMPUTERNAME + '...')\n",
    "tfFLAGS.printExperimentDetails()\n",
    "run_cifar10_evalWithMcnemar() \n",
    "print_('%s:' % nowStr(), 'DONE')\n",
    "printSeparater()"
   ]
  },
  {
   "cell_type": "code",
   "execution_count": 2,
   "metadata": {},
   "outputs": [
    {
     "name": "stdout",
     "output_type": "stream",
     "text": [
      "Summary of Network 1:\n",
      "conv1Shape: [2, 2, 3, 4]\n",
      "pool1ksize: [1, 2, 2, 1]  | pool1strides: [1, 2, 2, 1]  | pool1padding: SAME\n",
      "conv2Shape: [2, 2, 4, 10]\n",
      "pool2ksize: [1, 2, 2, 1]  | pool2strides: [1, 2, 2, 1]  | pool2padding: SAME\n",
      "local3InputDepth: 640  | local3OutputDepth: 640\n",
      "local4InputDepth: 640  | local4OutputDepth: 64\n",
      "softmax_linearInput: 64\n",
      "\n",
      "Number of hidden parameters of conv1: 48\n",
      "Number of hidden parameters of conv1Biases: 4\n",
      "Number of hidden parameters of conv2: 160\n",
      "Number of hidden parameters of conv2Biases: 10\n",
      "Number of hidden parameters of local3: 409600\n",
      "Number of hidden parameters of local3Biases: 640\n",
      "Number of hidden parameters of local4: 40960\n",
      "Number of hidden parameters of local4Biases: 64\n",
      "Number of hidden parameters of softmax: 640\n",
      "Number of hidden parameters of softmaxBiases: 10\n",
      "Total number of hidden parameters: 452136\n"
     ]
    }
   ],
   "source": [
    "# CELL FOR CHANGING NETWORK ARCHIVE\n",
    "\n",
    "if tfFLAGS.network == 1:\n",
    "    import MyModel as m\n",
    "else:\n",
    "    import MyModel2 as m\n",
    "m.conv1Size = 2; m.conv1Out = 4; m.conv1Shape = [m.conv1Size, m.conv1Size, 3, m.conv1Out]\n",
    "m.conv2Size = 2; m.conv2Shape = [m.conv2Size, m.conv2Size, m.conv1Out, 10]\n",
    "\n",
    "m.pool1S = 2; m.pool1ksize=[1, m.pool1S, m.pool1S, 1]; m.pool1St = 2; m.pool1strides=[1, m.pool1St, m.pool1St, 1]; m.pool1padding='SAME'\n",
    "m.pool2S = 2; m.pool2ksize=[1, m.pool2S, m.pool2S, 1]; m.pool2St = 2; m.pool2strides=[1, m.pool2St, m.pool2St, 1]; m.pool2padding='SAME'\n",
    "\n",
    "m.local3InputDepth = 64 * m.conv2Shape[-1]; m.local3OutputDepth = m.local3InputDepth\n",
    "m.local4InputDepth = m.local3OutputDepth; m.local4OutputDepth = 64\n",
    "m.softmax_linearInput = m.local4OutputDepth\n",
    "m.summarizeModel()"
   ]
  },
  {
   "cell_type": "code",
   "execution_count": null,
   "metadata": {
    "collapsed": true
   },
   "outputs": [],
   "source": []
  }
 ],
 "metadata": {
  "kernelspec": {
   "display_name": "Python 3",
   "language": "python",
   "name": "python3"
  },
  "language_info": {
   "codemirror_mode": {
    "name": "ipython",
    "version": 3
   },
   "file_extension": ".py",
   "mimetype": "text/x-python",
   "name": "python",
   "nbconvert_exporter": "python",
   "pygments_lexer": "ipython3",
   "version": "3.5.0"
  }
 },
 "nbformat": 4,
 "nbformat_minor": 2
}
